{
  "nbformat": 4,
  "nbformat_minor": 0,
  "metadata": {
    "colab": {
      "name": "Mixed_methods_CUP.ipynb",
      "provenance": [],
      "collapsed_sections": [],
      "authorship_tag": "ABX9TyOEfV+AKcXrBnKelmuJUM/c",
      "include_colab_link": true
    },
    "kernelspec": {
      "name": "python3",
      "display_name": "Python 3"
    },
    "language_info": {
      "name": "python"
    }
  },
  "cells": [
    {
      "cell_type": "markdown",
      "metadata": {
        "id": "view-in-github",
        "colab_type": "text"
      },
      "source": [
        "<a href=\"https://colab.research.google.com/github/joaoppadua/stj_reconhecimento_de_pessoas/blob/main/Mixed_methods_CUP.ipynb\" target=\"_parent\"><img src=\"https://colab.research.google.com/assets/colab-badge.svg\" alt=\"Open In Colab\"/></a>"
      ]
    },
    {
      "cell_type": "markdown",
      "source": [
        "###CODE TO THE BOOK \"USING MIXED METHODS IN FORENSIC DISCOURSE\""
      ],
      "metadata": {
        "id": "GFGH95gCVXY3"
      }
    },
    {
      "cell_type": "code",
      "execution_count": 1,
      "metadata": {
        "colab": {
          "base_uri": "https://localhost:8080/"
        },
        "id": "743vK-VvVNmF",
        "outputId": "3b8d153b-bd05-47d9-840f-5d103d6d7015"
      },
      "outputs": [
        {
          "output_type": "stream",
          "name": "stdout",
          "text": [
            "Mounted at /content/drive\n"
          ]
        }
      ],
      "source": [
        "#Mount drive \n",
        "from google.colab import drive\n",
        "drive.mount('/content/drive')"
      ]
    },
    {
      "cell_type": "code",
      "source": [
        "!pip install git+https://github.com/felipemaiapolo/legalnlp"
      ],
      "metadata": {
        "colab": {
          "base_uri": "https://localhost:8080/"
        },
        "id": "mYzOkDo9YHSp",
        "outputId": "b508bc47-a478-415a-e9e9-2386ba677e21"
      },
      "execution_count": 2,
      "outputs": [
        {
          "output_type": "stream",
          "name": "stdout",
          "text": [
            "Collecting git+https://github.com/felipemaiapolo/legalnlp\n",
            "  Cloning https://github.com/felipemaiapolo/legalnlp to /tmp/pip-req-build-ixrusycu\n",
            "  Running command git clone -q https://github.com/felipemaiapolo/legalnlp /tmp/pip-req-build-ixrusycu\n",
            "Collecting ftfy\n",
            "  Downloading ftfy-6.0.3.tar.gz (64 kB)\n",
            "\u001b[K     |████████████████████████████████| 64 kB 870 kB/s \n",
            "\u001b[?25hCollecting wget\n",
            "  Downloading wget-3.2.zip (10 kB)\n",
            "Requirement already satisfied: wcwidth in /usr/local/lib/python3.7/dist-packages (from ftfy->legalnlp==1.0.0) (0.2.5)\n",
            "Building wheels for collected packages: legalnlp, ftfy, wget\n",
            "  Building wheel for legalnlp (setup.py) ... \u001b[?25l\u001b[?25hdone\n",
            "  Created wheel for legalnlp: filename=legalnlp-1.0.0-py3-none-any.whl size=11653 sha256=f2532b7e6cc083f52e6b7692fb0892c00b37f3c0f50b631d4a1a701803a3a6a5\n",
            "  Stored in directory: /tmp/pip-ephem-wheel-cache-u4kujrnl/wheels/68/2c/bc/648c46b3bcdc01c929bb289ca6f2c514049437f74835d993f9\n",
            "  Building wheel for ftfy (setup.py) ... \u001b[?25l\u001b[?25hdone\n",
            "  Created wheel for ftfy: filename=ftfy-6.0.3-py3-none-any.whl size=41933 sha256=5efdf67a0128bb051b7839773f89ad53e33c1bb8e6dfb485e25639de2eaf2518\n",
            "  Stored in directory: /root/.cache/pip/wheels/19/f5/38/273eb3b5e76dfd850619312f693716ac4518b498f5ffb6f56d\n",
            "  Building wheel for wget (setup.py) ... \u001b[?25l\u001b[?25hdone\n",
            "  Created wheel for wget: filename=wget-3.2-py3-none-any.whl size=9672 sha256=31ba3f9cb5a693b6a4640790c5e1e60710b5dd8be86ea5cf30a7e3d44b233c63\n",
            "  Stored in directory: /root/.cache/pip/wheels/a1/b6/7c/0e63e34eb06634181c63adacca38b79ff8f35c37e3c13e3c02\n",
            "Successfully built legalnlp ftfy wget\n",
            "Installing collected packages: wget, ftfy, legalnlp\n",
            "Successfully installed ftfy-6.0.3 legalnlp-1.0.0 wget-3.2\n"
          ]
        }
      ]
    },
    {
      "cell_type": "code",
      "source": [
        "!pip install empiricaldist"
      ],
      "metadata": {
        "colab": {
          "base_uri": "https://localhost:8080/"
        },
        "id": "ZEHzGZe9kHXN",
        "outputId": "4450142a-d858-40e0-f7ca-8dc7de79b388"
      },
      "execution_count": 4,
      "outputs": [
        {
          "output_type": "stream",
          "name": "stdout",
          "text": [
            "Collecting empiricaldist\n",
            "  Downloading empiricaldist-0.6.2.tar.gz (9.5 kB)\n",
            "Building wheels for collected packages: empiricaldist\n",
            "  Building wheel for empiricaldist (setup.py) ... \u001b[?25l\u001b[?25hdone\n",
            "  Created wheel for empiricaldist: filename=empiricaldist-0.6.2-py3-none-any.whl size=10737 sha256=9c00253a7923cd40546a5f4a2aacd6ae632b23c1fa21dd8a40294ab4e234c5a8\n",
            "  Stored in directory: /root/.cache/pip/wheels/34/22/5f/9ba9db604d08670e283b2e04551dd407f44cf889fdb9617ce5\n",
            "Successfully built empiricaldist\n",
            "Installing collected packages: empiricaldist\n",
            "Successfully installed empiricaldist-0.6.2\n"
          ]
        }
      ]
    },
    {
      "cell_type": "code",
      "source": [
        "#imports \n",
        "import nltk\n",
        "import pandas as pd\n",
        "from collections import Counter\n",
        "#from nltk.lm import MLE\n",
        "from matplotlib import pyplot as plt\n",
        "from legalnlp import *\n",
        "import os\n",
        "from nltk import FreqDist, ConditionalFreqDist"
      ],
      "metadata": {
        "id": "y2yxn-06WJtt"
      },
      "execution_count": 5,
      "outputs": []
    },
    {
      "cell_type": "code",
      "source": [
        "nltk.download('punkt')"
      ],
      "metadata": {
        "colab": {
          "base_uri": "https://localhost:8080/"
        },
        "id": "SFUCkkDdcxyk",
        "outputId": "29d611f9-16d5-45f6-a6bb-0c371b63fd86"
      },
      "execution_count": 6,
      "outputs": [
        {
          "output_type": "stream",
          "name": "stdout",
          "text": [
            "[nltk_data] Downloading package punkt to /root/nltk_data...\n",
            "[nltk_data]   Unzipping tokenizers/punkt.zip.\n"
          ]
        },
        {
          "output_type": "execute_result",
          "data": {
            "text/plain": [
              "True"
            ]
          },
          "metadata": {},
          "execution_count": 6
        }
      ]
    },
    {
      "cell_type": "markdown",
      "source": [
        "Getting and preparing the data: "
      ],
      "metadata": {
        "id": "fhvDUrbQaTCx"
      }
    },
    {
      "cell_type": "code",
      "source": [
        "DATA_PATH = 'drive/MyDrive/coding/python/local_repo/stj reconhecimento de pessoas'\n",
        "DATA_FILE = 'corpus_stj_art_226.txt'"
      ],
      "metadata": {
        "id": "881_614qYEKD"
      },
      "execution_count": 7,
      "outputs": []
    },
    {
      "cell_type": "code",
      "source": [
        "with open(os.path.join(DATA_PATH, DATA_FILE), 'r', encoding='utf-8') as f:\n",
        "  data_raw = f.read()"
      ],
      "metadata": {
        "id": "B8GtRxTTasav"
      },
      "execution_count": 8,
      "outputs": []
    },
    {
      "cell_type": "code",
      "source": [
        "from legalnlp.clean_functions import clean\n",
        "data_clean = clean(data_raw)\n",
        "type(data_clean)"
      ],
      "metadata": {
        "colab": {
          "base_uri": "https://localhost:8080/"
        },
        "id": "udkoj87pbRIz",
        "outputId": "52acbf6b-3177-40bd-95d5-43b3af60427e"
      },
      "execution_count": 9,
      "outputs": [
        {
          "output_type": "execute_result",
          "data": {
            "text/plain": [
              "str"
            ]
          },
          "metadata": {},
          "execution_count": 9
        }
      ]
    },
    {
      "cell_type": "code",
      "source": [
        "from nltk import RegexpTokenizer\n",
        "tokens = RegexpTokenizer(r'\\w+').tokenize(data_clean)"
      ],
      "metadata": {
        "id": "0NfUn6mzbnhv"
      },
      "execution_count": 10,
      "outputs": []
    },
    {
      "cell_type": "code",
      "source": [
        "tokens[:50]"
      ],
      "metadata": {
        "colab": {
          "base_uri": "https://localhost:8080/"
        },
        "id": "MWfratsncFcT",
        "outputId": "e7c0123d-7968-4c58-b6eb-d11c100cfa46"
      },
      "execution_count": 11,
      "outputs": [
        {
          "output_type": "execute_result",
          "data": {
            "text/plain": [
              "['agravo',\n",
              " 'regimental',\n",
              " 'no',\n",
              " 'habeas',\n",
              " 'corpus',\n",
              " 'processual',\n",
              " 'penal',\n",
              " 'roubo',\n",
              " 'circunstanciado',\n",
              " 'insurgência',\n",
              " 'contra',\n",
              " 'acórdão',\n",
              " 'transitado',\n",
              " 'em',\n",
              " 'julgado',\n",
              " 'manejo',\n",
              " 'do',\n",
              " 'writ',\n",
              " 'como',\n",
              " 'revisão',\n",
              " 'criminal',\n",
              " 'descabimento',\n",
              " 'art',\n",
              " 'numero',\n",
              " 'inciso',\n",
              " 'i',\n",
              " 'alínea',\n",
              " 'e',\n",
              " 'da',\n",
              " 'constituição',\n",
              " 'federal',\n",
              " 'ausência',\n",
              " 'de',\n",
              " 'manifesta',\n",
              " 'ilegalidade',\n",
              " 'insurgência',\n",
              " 'quanto',\n",
              " 'à',\n",
              " 'autoria',\n",
              " 'delitiva',\n",
              " 'participação',\n",
              " 'do',\n",
              " 'agravante',\n",
              " 'na',\n",
              " 'prática',\n",
              " 'do',\n",
              " 'crime',\n",
              " 'reconhecida',\n",
              " 'pelas',\n",
              " 'instâncias']"
            ]
          },
          "metadata": {},
          "execution_count": 11
        }
      ]
    },
    {
      "cell_type": "markdown",
      "source": [
        "Now let's count the raw data and compare it to the clean data."
      ],
      "metadata": {
        "id": "DRba3Q_RHbSV"
      }
    },
    {
      "cell_type": "code",
      "source": [
        "raw_tokens = nltk.word_tokenize(data_raw)\n",
        "len(raw_tokens), len(tokens)"
      ],
      "metadata": {
        "colab": {
          "base_uri": "https://localhost:8080/"
        },
        "id": "5v9ZsyrFHksn",
        "outputId": "2ba9ecc6-e2a4-455f-e2f9-e4d5ceab9acb"
      },
      "execution_count": 12,
      "outputs": [
        {
          "output_type": "execute_result",
          "data": {
            "text/plain": [
              "(22152, 18769)"
            ]
          },
          "metadata": {},
          "execution_count": 12
        }
      ]
    },
    {
      "cell_type": "markdown",
      "source": [
        "And lets create a unigram and a bigram generator for the dataset."
      ],
      "metadata": {
        "id": "Lt9P34ipIosb"
      }
    },
    {
      "cell_type": "code",
      "source": [
        "fdist = FreqDist(tokens)\n",
        "fdist.max(), fdist[fdist.max()], fdist.N(), fdist.freq(fdist.max())"
      ],
      "metadata": {
        "colab": {
          "base_uri": "https://localhost:8080/"
        },
        "id": "BtRpu-L9Inuh",
        "outputId": "19d9f30c-5d68-4543-be28-a77159bbff69"
      },
      "execution_count": 13,
      "outputs": [
        {
          "output_type": "execute_result",
          "data": {
            "text/plain": [
              "('de', 907, 18769, 0.04832436464382759)"
            ]
          },
          "metadata": {},
          "execution_count": 13
        }
      ]
    },
    {
      "cell_type": "code",
      "source": [
        "bgrams = [bgram for bgram in nltk.bigrams(tokens)]\n",
        "type(bgrams)"
      ],
      "metadata": {
        "colab": {
          "base_uri": "https://localhost:8080/"
        },
        "id": "KnGsg-mKL7vr",
        "outputId": "8c4a1451-0075-42ad-ba1d-f7d167a4b543"
      },
      "execution_count": 14,
      "outputs": [
        {
          "output_type": "execute_result",
          "data": {
            "text/plain": [
              "list"
            ]
          },
          "metadata": {},
          "execution_count": 14
        }
      ]
    },
    {
      "cell_type": "code",
      "source": [
        "cfdist = ConditionalFreqDist(bgrams)\n",
        "len(cfdist), cfdist['reconhecimento'].max()"
      ],
      "metadata": {
        "colab": {
          "base_uri": "https://localhost:8080/"
        },
        "id": "roior4Z9MTUf",
        "outputId": "e0f47423-c3b9-43dc-e8e5-52904f22a02f"
      },
      "execution_count": 15,
      "outputs": [
        {
          "output_type": "execute_result",
          "data": {
            "text/plain": [
              "(2324, 'pessoal')"
            ]
          },
          "metadata": {},
          "execution_count": 15
        }
      ]
    },
    {
      "cell_type": "code",
      "source": [
        "cfdist['reconhecimento'].freq('pessoal')"
      ],
      "metadata": {
        "colab": {
          "base_uri": "https://localhost:8080/"
        },
        "id": "_GUSit3mkqKd",
        "outputId": "4918a031-0602-42be-df6b-334c9534adfa"
      },
      "execution_count": 16,
      "outputs": [
        {
          "output_type": "execute_result",
          "data": {
            "text/plain": [
              "0.362962962962963"
            ]
          },
          "metadata": {},
          "execution_count": 16
        }
      ]
    },
    {
      "cell_type": "markdown",
      "source": [
        "Now, let's create a function to generate a probability distribution for second words, given a prior word in a bigram."
      ],
      "metadata": {
        "id": "oE2-qEuxdiLm"
      }
    },
    {
      "cell_type": "code",
      "source": [
        "from empiricaldist import Pmf\n",
        "\n",
        "def bigram_pmf(cond_freq_dist, prior_word):\n",
        "  ps_l = []\n",
        "  qs_l = [w for w in cond_freq_dist[prior_word]]\n",
        "  for i in qs_l:\n",
        "    p = cond_freq_dist[prior_word].freq(i)\n",
        "    ps_l.append(p)\n",
        "  pmf = Pmf(ps_l, qs_l)\n",
        "  return pmf\n",
        "\n"
      ],
      "metadata": {
        "id": "r1eRvV_ZdhrY"
      },
      "execution_count": 17,
      "outputs": []
    },
    {
      "cell_type": "markdown",
      "source": [
        "And let's generate a Pmf object, and than sort it in descending order. "
      ],
      "metadata": {
        "id": "JxyVYpxLm_lg"
      }
    },
    {
      "cell_type": "code",
      "source": [
        "reconhecimento = bigram_pmf(cfdist, 'reconhecimento')"
      ],
      "metadata": {
        "id": "TzljXyXic8q_"
      },
      "execution_count": 18,
      "outputs": []
    },
    {
      "cell_type": "code",
      "source": [
        "reconhecimento.sort_values(ascending=False)[:20]"
      ],
      "metadata": {
        "colab": {
          "base_uri": "https://localhost:8080/"
        },
        "id": "KSvx2Henl9ni",
        "outputId": "57ab2e84-5839-4c6d-8cc4-96bd11219a73"
      },
      "execution_count": 30,
      "outputs": [
        {
          "output_type": "execute_result",
          "data": {
            "text/plain": [
              "pessoal        0.362963\n",
              "fotográfico    0.318519\n",
              "do             0.125926\n",
              "de             0.044444\n",
              "da             0.022222\n",
              "por            0.022222\n",
              "fls            0.007407\n",
              "art            0.007407\n",
              "foi            0.007407\n",
              "e              0.007407\n",
              "ratificado     0.007407\n",
              "judicial       0.007407\n",
              "disposições    0.007407\n",
              "comprovação    0.007407\n",
              "feito          0.007407\n",
              "operado        0.007407\n",
              "não            0.007407\n",
              "já             0.007407\n",
              "deu            0.007407\n",
              "na             0.007407\n",
              "Name: , dtype: float64"
            ]
          },
          "metadata": {},
          "execution_count": 30
        }
      ]
    },
    {
      "cell_type": "markdown",
      "source": [
        "Let's plot this:"
      ],
      "metadata": {
        "id": "Y-acmb6nnIu8"
      }
    },
    {
      "cell_type": "code",
      "source": [
        "cfdist.plot(conditions=['reconhecimento'], cumulative=False)"
      ],
      "metadata": {
        "colab": {
          "base_uri": "https://localhost:8080/",
          "height": 336
        },
        "id": "w16DoXG-mIOb",
        "outputId": "603505b1-46af-488a-b529-a18011147cf1"
      },
      "execution_count": 20,
      "outputs": [
        {
          "output_type": "display_data",
          "data": {
            "image/png": "[encoded data removed]",
            "text/plain": [
              "<Figure size 432x288 with 1 Axes>"
            ]
          },
          "metadata": {
            "needs_background": "light"
          }
        }
      ]
    },
    {
      "cell_type": "markdown",
      "source": [
        "Not only does it seems consistent with [Zipf's Law](https://en.wikipedia.org/wiki/Zipf%27s_law), but it also shows that \"reconhecimento\" heavily conditions \"fotográfico\" and \"pessoal\" as next words, even over formal words, such as variations of possessive determiners derived from \"de\".\n"
      ],
      "metadata": {
        "id": "dPoqgZl6nUHN"
      }
    },
    {
      "cell_type": "markdown",
      "source": [
        "A conditional probaiblity-based N-gram language model uses the adaptation of Bayes' Theorem for word counts, as follows:\n",
        "\n",
        "\\begin{equation}\n",
        "    P(word_{2}\\mid word_{1}) = \\frac{C(word_{1}, word_{2})}{C(word_{1})} \\tag{1}\n",
        "  \\end{equation}\n",
        "\n",
        "where $C$ meis the count of the word or bigram. In other words, the probability of a second word is calculated by the count of the bigram, normalized by the count of the first word. "
      ],
      "metadata": {
        "id": "XhAcIUJZoZVD"
      }
    },
    {
      "cell_type": "markdown",
      "source": [
        "Now, for the sake of it, let's construct a probability distribution of lexical items--i.e., of unigrams."
      ],
      "metadata": {
        "id": "F0Tam0rOn-O3"
      }
    },
    {
      "cell_type": "code",
      "source": [
        "def unigram_pmf(freq_dist):\n",
        "  qs_l = [w for w in freq_dist]\n",
        "  ps_l = [freq_dist.freq(w) for w in freq_dist]\n",
        "  pmf = Pmf(ps_l, qs_l)\n",
        "  return pmf"
      ],
      "metadata": {
        "id": "4kmZurYgn8qH"
      },
      "execution_count": 26,
      "outputs": []
    },
    {
      "cell_type": "code",
      "source": [
        "unigram_dist = unigram_pmf(fdist)"
      ],
      "metadata": {
        "id": "kU1gMIfOnRGw"
      },
      "execution_count": 27,
      "outputs": []
    },
    {
      "cell_type": "code",
      "source": [
        "unigram_dist.sort_values(ascending=False)[:20]"
      ],
      "metadata": {
        "colab": {
          "base_uri": "https://localhost:8080/"
        },
        "id": "Gn8XBEerUl0w",
        "outputId": "775ac727-421f-4c56-8642-0971421f5ab6"
      },
      "execution_count": 31,
      "outputs": [
        {
          "output_type": "execute_result",
          "data": {
            "text/plain": [
              "de                0.048324\n",
              "numero            0.044062\n",
              "do                0.033033\n",
              "a                 0.031861\n",
              "o                 0.022377\n",
              "da                0.019820\n",
              "em                0.019394\n",
              "não               0.018861\n",
              "que               0.016730\n",
              "no                0.015984\n",
              "e                 0.013426\n",
              "se                0.009377\n",
              "penal             0.008738\n",
              "data              0.007779\n",
              "para              0.007726\n",
              "na                0.007246\n",
              "reconhecimento    0.007193\n",
              "agravo            0.006820\n",
              "art               0.006180\n",
              "recurso           0.005541\n",
              "Name: , dtype: float64"
            ]
          },
          "metadata": {},
          "execution_count": 31
        }
      ]
    },
    {
      "cell_type": "markdown",
      "source": [
        "And let's check the count and probability of some key lexical items;\n"
      ],
      "metadata": {
        "id": "29fPvVQAVqCN"
      }
    },
    {
      "cell_type": "code",
      "source": [
        "lexical_l = ['roubo', 'homicídio', 'tráfico', 'estupro', 'corrupção', 'sonegação']\n",
        "lexical_d = {}\n",
        "\n",
        "for i in lexical_l:\n",
        "  lexical_d[i] = (fdist[i], fdist.freq(i))\n"
      ],
      "metadata": {
        "id": "uHZOOhKpUwxn"
      },
      "execution_count": 38,
      "outputs": []
    },
    {
      "cell_type": "code",
      "source": [
        "df_lexical_items = pd.DataFrame(lexical_d, index=['Count', 'Probability'])\n",
        "df_lexical_items"
      ],
      "metadata": {
        "colab": {
          "base_uri": "https://localhost:8080/",
          "height": 112
        },
        "id": "jS4SwCgvU59q",
        "outputId": "1e2ae757-4801-468e-8f1f-fe995ed90034"
      },
      "execution_count": 39,
      "outputs": [
        {
          "output_type": "execute_result",
          "data": {
            "text/html": [
              "<div>\n",
              "<style scoped>\n",
              "    .dataframe tbody tr th:only-of-type {\n",
              "        vertical-align: middle;\n",
              "    }\n",
              "\n",
              "    .dataframe tbody tr th {\n",
              "        vertical-align: top;\n",
              "    }\n",
              "\n",
              "    .dataframe thead th {\n",
              "        text-align: right;\n",
              "    }\n",
              "</style>\n",
              "<table border=\"1\" class=\"dataframe\">\n",
              "  <thead>\n",
              "    <tr style=\"text-align: right;\">\n",
              "      <th></th>\n",
              "      <th>roubo</th>\n",
              "      <th>homicídio</th>\n",
              "      <th>tráfico</th>\n",
              "      <th>estupro</th>\n",
              "      <th>corrupção</th>\n",
              "      <th>sonegação</th>\n",
              "    </tr>\n",
              "  </thead>\n",
              "  <tbody>\n",
              "    <tr>\n",
              "      <th>Count</th>\n",
              "      <td>46.000000</td>\n",
              "      <td>6.00000</td>\n",
              "      <td>5.000000</td>\n",
              "      <td>4.000000</td>\n",
              "      <td>3.00000</td>\n",
              "      <td>0.0</td>\n",
              "    </tr>\n",
              "    <tr>\n",
              "      <th>Probability</th>\n",
              "      <td>0.002451</td>\n",
              "      <td>0.00032</td>\n",
              "      <td>0.000266</td>\n",
              "      <td>0.000213</td>\n",
              "      <td>0.00016</td>\n",
              "      <td>0.0</td>\n",
              "    </tr>\n",
              "  </tbody>\n",
              "</table>\n",
              "</div>"
            ],
            "text/plain": [
              "                 roubo  homicídio   tráfico   estupro  corrupção  sonegação\n",
              "Count        46.000000    6.00000  5.000000  4.000000    3.00000        0.0\n",
              "Probability   0.002451    0.00032  0.000266  0.000213    0.00016        0.0"
            ]
          },
          "metadata": {},
          "execution_count": 39
        }
      ]
    },
    {
      "cell_type": "markdown",
      "source": [
        "As we can see, roubo is the indisputable king of references in the corpus, in what regards names of crimes. Corrupção is about 15 times less likely to come up. And a typical financial crime--tax evasion--doesn't occur at all. "
      ],
      "metadata": {
        "id": "wS6enOdjXHJE"
      }
    },
    {
      "cell_type": "code",
      "source": [
        ""
      ],
      "metadata": {
        "id": "5dmKgzU0Wn5B"
      },
      "execution_count": null,
      "outputs": []
    }
  ]
}