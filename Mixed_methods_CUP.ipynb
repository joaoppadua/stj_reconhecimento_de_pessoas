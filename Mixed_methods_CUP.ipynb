{
  "nbformat": 4,
  "nbformat_minor": 0,
  "metadata": {
    "colab": {
      "name": "Mixed_methods_CUP.ipynb",
      "provenance": [],
      "collapsed_sections": [],
      "authorship_tag": "ABX9TyNCsBtNvBQyR3BP3O+MnSmf",
      "include_colab_link": true
    },
    "kernelspec": {
      "name": "python3",
      "display_name": "Python 3"
    },
    "language_info": {
      "name": "python"
    }
  },
  "cells": [
    {
      "cell_type": "markdown",
      "metadata": {
        "id": "view-in-github",
        "colab_type": "text"
      },
      "source": [
        "<a href=\"https://colab.research.google.com/github/joaoppadua/stj_reconhecimento_de_pessoas/blob/main/Mixed_methods_CUP.ipynb\" target=\"_parent\"><img src=\"https://colab.research.google.com/assets/colab-badge.svg\" alt=\"Open In Colab\"/></a>"
      ]
    },
    {
      "cell_type": "markdown",
      "source": [
        "###CODE TO THE BOOK \"USING MIXED METHODS IN FORENSIC DISCOURSE\""
      ],
      "metadata": {
        "id": "GFGH95gCVXY3"
      }
    },
    {
      "cell_type": "code",
      "execution_count": null,
      "metadata": {
        "colab": {
          "base_uri": "https://localhost:8080/"
        },
        "id": "743vK-VvVNmF",
        "outputId": "72bab3fa-b7fd-4357-b3c8-d5c6f3322544"
      },
      "outputs": [
        {
          "output_type": "stream",
          "name": "stdout",
          "text": [
            "Mounted at /content/drive\n"
          ]
        }
      ],
      "source": [
        "#Mount drive \n",
        "from google.colab import drive\n",
        "drive.mount('/content/drive')"
      ]
    },
    {
      "cell_type": "code",
      "source": [
        "!pip install git+https://github.com/felipemaiapolo/legalnlp"
      ],
      "metadata": {
        "colab": {
          "base_uri": "https://localhost:8080/"
        },
        "id": "mYzOkDo9YHSp",
        "outputId": "d4ee721a-cbeb-4261-e20e-48737d3c0771"
      },
      "execution_count": null,
      "outputs": [
        {
          "output_type": "stream",
          "name": "stdout",
          "text": [
            "Collecting git+https://github.com/felipemaiapolo/legalnlp\n",
            "  Cloning https://github.com/felipemaiapolo/legalnlp to /tmp/pip-req-build-0eocry0n\n",
            "  Running command git clone -q https://github.com/felipemaiapolo/legalnlp /tmp/pip-req-build-0eocry0n\n",
            "Collecting ftfy\n",
            "  Downloading ftfy-6.0.3.tar.gz (64 kB)\n",
            "\u001b[K     |████████████████████████████████| 64 kB 2.8 MB/s \n",
            "\u001b[?25hCollecting wget\n",
            "  Downloading wget-3.2.zip (10 kB)\n",
            "Requirement already satisfied: wcwidth in /usr/local/lib/python3.7/dist-packages (from ftfy->legalnlp==1.0.0) (0.2.5)\n",
            "Building wheels for collected packages: legalnlp, ftfy, wget\n",
            "  Building wheel for legalnlp (setup.py) ... \u001b[?25l\u001b[?25hdone\n",
            "  Created wheel for legalnlp: filename=legalnlp-1.0.0-py3-none-any.whl size=11653 sha256=7d12c551954d0aea3eb6259fd41314daa6573300015ab260c8f06347a229648a\n",
            "  Stored in directory: /tmp/pip-ephem-wheel-cache-t1izzr7_/wheels/68/2c/bc/648c46b3bcdc01c929bb289ca6f2c514049437f74835d993f9\n",
            "  Building wheel for ftfy (setup.py) ... \u001b[?25l\u001b[?25hdone\n",
            "  Created wheel for ftfy: filename=ftfy-6.0.3-py3-none-any.whl size=41933 sha256=3a9a19248e39cddc20c143df7d466c5b22924dbaffc36e38ca63a98c302da2d1\n",
            "  Stored in directory: /root/.cache/pip/wheels/19/f5/38/273eb3b5e76dfd850619312f693716ac4518b498f5ffb6f56d\n",
            "  Building wheel for wget (setup.py) ... \u001b[?25l\u001b[?25hdone\n",
            "  Created wheel for wget: filename=wget-3.2-py3-none-any.whl size=9672 sha256=e93b5d1e63622f33bb2ffe28e9b7cc6ce4fd549a916246330aa4aaf489309375\n",
            "  Stored in directory: /root/.cache/pip/wheels/a1/b6/7c/0e63e34eb06634181c63adacca38b79ff8f35c37e3c13e3c02\n",
            "Successfully built legalnlp ftfy wget\n",
            "Installing collected packages: wget, ftfy, legalnlp\n",
            "Successfully installed ftfy-6.0.3 legalnlp-1.0.0 wget-3.2\n"
          ]
        }
      ]
    },
    {
      "cell_type": "code",
      "source": [
        "!pip install empiricaldist"
      ],
      "metadata": {
        "colab": {
          "base_uri": "https://localhost:8080/"
        },
        "id": "ZEHzGZe9kHXN",
        "outputId": "5c3a3804-6b99-4a84-c18a-8055d0a6b37b"
      },
      "execution_count": null,
      "outputs": [
        {
          "output_type": "stream",
          "name": "stdout",
          "text": [
            "Collecting empiricaldist\n",
            "  Downloading empiricaldist-0.6.2.tar.gz (9.5 kB)\n",
            "Building wheels for collected packages: empiricaldist\n",
            "  Building wheel for empiricaldist (setup.py) ... \u001b[?25l\u001b[?25hdone\n",
            "  Created wheel for empiricaldist: filename=empiricaldist-0.6.2-py3-none-any.whl size=10737 sha256=ac220f209c7a0d5b75035e52e9f7f447c3f774325c96de1d833ad49c6bd825e7\n",
            "  Stored in directory: /root/.cache/pip/wheels/34/22/5f/9ba9db604d08670e283b2e04551dd407f44cf889fdb9617ce5\n",
            "Successfully built empiricaldist\n",
            "Installing collected packages: empiricaldist\n",
            "Successfully installed empiricaldist-0.6.2\n"
          ]
        }
      ]
    },
    {
      "cell_type": "code",
      "source": [
        "#imports \n",
        "import nltk\n",
        "import pandas as pd\n",
        "from collections import Counter\n",
        "#from nltk.lm import MLE\n",
        "from matplotlib import pyplot as plt\n",
        "from legalnlp import *\n",
        "import os\n",
        "from nltk import FreqDist, ConditionalFreqDist"
      ],
      "metadata": {
        "id": "y2yxn-06WJtt"
      },
      "execution_count": null,
      "outputs": []
    },
    {
      "cell_type": "code",
      "source": [
        "# Get utils.py (from Prof. Allen Downey)\n",
        "\n",
        "from os.path import basename, exists\n",
        "\n",
        "def download(url):\n",
        "    filename = basename(url)\n",
        "    if not exists(filename):\n",
        "        from urllib.request import urlretrieve\n",
        "        local, _ = urlretrieve(url, filename)\n",
        "        print('Downloaded ' + local)\n",
        "    \n",
        "download('https://github.com/AllenDowney/ThinkBayes2/raw/master/soln/utils.py')"
      ],
      "metadata": {
        "colab": {
          "base_uri": "https://localhost:8080/"
        },
        "id": "wUcxS65Tf8vK",
        "outputId": "9c892363-79c0-404e-dbfb-063947f2eea8"
      },
      "execution_count": null,
      "outputs": [
        {
          "output_type": "stream",
          "name": "stdout",
          "text": [
            "Downloaded utils.py\n"
          ]
        }
      ]
    },
    {
      "cell_type": "code",
      "source": [
        "nltk.download('punkt')"
      ],
      "metadata": {
        "colab": {
          "base_uri": "https://localhost:8080/"
        },
        "id": "SFUCkkDdcxyk",
        "outputId": "c640b637-1dbd-4794-d4c5-8f20be08e852"
      },
      "execution_count": null,
      "outputs": [
        {
          "output_type": "stream",
          "name": "stdout",
          "text": [
            "[nltk_data] Downloading package punkt to /root/nltk_data...\n",
            "[nltk_data]   Unzipping tokenizers/punkt.zip.\n"
          ]
        },
        {
          "output_type": "execute_result",
          "data": {
            "text/plain": [
              "True"
            ]
          },
          "metadata": {},
          "execution_count": 6
        }
      ]
    },
    {
      "cell_type": "markdown",
      "source": [
        "Getting and preparing the data: "
      ],
      "metadata": {
        "id": "fhvDUrbQaTCx"
      }
    },
    {
      "cell_type": "code",
      "source": [
        "DATA_PATH = 'drive/MyDrive/coding/python/local_repo/stj reconhecimento de pessoas'\n",
        "DATA_FILE = 'corpus_stj_art_226.txt'"
      ],
      "metadata": {
        "id": "881_614qYEKD"
      },
      "execution_count": null,
      "outputs": []
    },
    {
      "cell_type": "code",
      "source": [
        "with open(os.path.join(DATA_PATH, DATA_FILE), 'r', encoding='utf-8') as f:\n",
        "  data_raw = f.read()"
      ],
      "metadata": {
        "id": "B8GtRxTTasav"
      },
      "execution_count": null,
      "outputs": []
    },
    {
      "cell_type": "code",
      "source": [
        "from legalnlp.clean_functions import clean\n",
        "data_clean = clean(data_raw)\n",
        "type(data_clean)"
      ],
      "metadata": {
        "colab": {
          "base_uri": "https://localhost:8080/"
        },
        "id": "udkoj87pbRIz",
        "outputId": "9e4cec10-72d8-4b65-c0b8-341dff1d65f2"
      },
      "execution_count": null,
      "outputs": [
        {
          "output_type": "execute_result",
          "data": {
            "text/plain": [
              "str"
            ]
          },
          "metadata": {},
          "execution_count": 9
        }
      ]
    },
    {
      "cell_type": "code",
      "source": [
        "from nltk import RegexpTokenizer\n",
        "tokens = RegexpTokenizer(r'\\w+').tokenize(data_clean)"
      ],
      "metadata": {
        "id": "0NfUn6mzbnhv"
      },
      "execution_count": null,
      "outputs": []
    },
    {
      "cell_type": "code",
      "source": [
        "tokens[:50]"
      ],
      "metadata": {
        "colab": {
          "base_uri": "https://localhost:8080/"
        },
        "id": "MWfratsncFcT",
        "outputId": "dc8be399-abf6-4c3f-fc8c-b9c2222dd8b5"
      },
      "execution_count": null,
      "outputs": [
        {
          "output_type": "execute_result",
          "data": {
            "text/plain": [
              "['agravo',\n",
              " 'regimental',\n",
              " 'no',\n",
              " 'habeas',\n",
              " 'corpus',\n",
              " 'processual',\n",
              " 'penal',\n",
              " 'roubo',\n",
              " 'circunstanciado',\n",
              " 'insurgência',\n",
              " 'contra',\n",
              " 'acórdão',\n",
              " 'transitado',\n",
              " 'em',\n",
              " 'julgado',\n",
              " 'manejo',\n",
              " 'do',\n",
              " 'writ',\n",
              " 'como',\n",
              " 'revisão',\n",
              " 'criminal',\n",
              " 'descabimento',\n",
              " 'art',\n",
              " 'numero',\n",
              " 'inciso',\n",
              " 'i',\n",
              " 'alínea',\n",
              " 'e',\n",
              " 'da',\n",
              " 'constituição',\n",
              " 'federal',\n",
              " 'ausência',\n",
              " 'de',\n",
              " 'manifesta',\n",
              " 'ilegalidade',\n",
              " 'insurgência',\n",
              " 'quanto',\n",
              " 'à',\n",
              " 'autoria',\n",
              " 'delitiva',\n",
              " 'participação',\n",
              " 'do',\n",
              " 'agravante',\n",
              " 'na',\n",
              " 'prática',\n",
              " 'do',\n",
              " 'crime',\n",
              " 'reconhecida',\n",
              " 'pelas',\n",
              " 'instâncias']"
            ]
          },
          "metadata": {},
          "execution_count": 11
        }
      ]
    },
    {
      "cell_type": "markdown",
      "source": [
        "Now let's count the raw data and compare it to the clean data."
      ],
      "metadata": {
        "id": "DRba3Q_RHbSV"
      }
    },
    {
      "cell_type": "code",
      "source": [
        "raw_tokens = nltk.word_tokenize(data_raw)\n",
        "len(raw_tokens), len(tokens)"
      ],
      "metadata": {
        "colab": {
          "base_uri": "https://localhost:8080/"
        },
        "id": "5v9ZsyrFHksn",
        "outputId": "93d0182f-ed4e-4022-8895-fb1acdd129b1"
      },
      "execution_count": null,
      "outputs": [
        {
          "output_type": "execute_result",
          "data": {
            "text/plain": [
              "(22152, 18769)"
            ]
          },
          "metadata": {},
          "execution_count": 12
        }
      ]
    },
    {
      "cell_type": "markdown",
      "source": [
        "And lets create a unigram and a bigram generator for the dataset."
      ],
      "metadata": {
        "id": "Lt9P34ipIosb"
      }
    },
    {
      "cell_type": "code",
      "source": [
        "fdist = FreqDist(tokens)\n",
        "fdist.max(), fdist[fdist.max()], fdist.N(), fdist.freq(fdist.max())"
      ],
      "metadata": {
        "colab": {
          "base_uri": "https://localhost:8080/"
        },
        "id": "BtRpu-L9Inuh",
        "outputId": "502b510a-34d0-4f41-cb40-29c47bf9ed41"
      },
      "execution_count": null,
      "outputs": [
        {
          "output_type": "execute_result",
          "data": {
            "text/plain": [
              "('de', 907, 18769, 0.04832436464382759)"
            ]
          },
          "metadata": {},
          "execution_count": 13
        }
      ]
    },
    {
      "cell_type": "code",
      "source": [
        "bgrams = [bgram for bgram in nltk.bigrams(tokens)]\n",
        "type(bgrams)"
      ],
      "metadata": {
        "colab": {
          "base_uri": "https://localhost:8080/"
        },
        "id": "KnGsg-mKL7vr",
        "outputId": "b405fd50-a7f0-44c3-92ca-c0705aae1633"
      },
      "execution_count": null,
      "outputs": [
        {
          "output_type": "execute_result",
          "data": {
            "text/plain": [
              "list"
            ]
          },
          "metadata": {},
          "execution_count": 14
        }
      ]
    },
    {
      "cell_type": "code",
      "source": [
        "cfdist = ConditionalFreqDist(bgrams)\n",
        "len(cfdist), cfdist['reconhecimento'].max()"
      ],
      "metadata": {
        "colab": {
          "base_uri": "https://localhost:8080/"
        },
        "id": "roior4Z9MTUf",
        "outputId": "774d1984-1053-46f9-b5bb-f594c6d76f90"
      },
      "execution_count": null,
      "outputs": [
        {
          "output_type": "execute_result",
          "data": {
            "text/plain": [
              "(2324, 'pessoal')"
            ]
          },
          "metadata": {},
          "execution_count": 15
        }
      ]
    },
    {
      "cell_type": "code",
      "source": [
        "cfdist['reconhecimento'].freq('pessoal')"
      ],
      "metadata": {
        "colab": {
          "base_uri": "https://localhost:8080/"
        },
        "id": "_GUSit3mkqKd",
        "outputId": "1d5909ab-ef50-4545-b7ff-c94bacbfe444"
      },
      "execution_count": null,
      "outputs": [
        {
          "output_type": "execute_result",
          "data": {
            "text/plain": [
              "0.362962962962963"
            ]
          },
          "metadata": {},
          "execution_count": 16
        }
      ]
    },
    {
      "cell_type": "markdown",
      "source": [
        "Now, let's create a function to generate a probability distribution for second words, given a prior word in a bigram."
      ],
      "metadata": {
        "id": "oE2-qEuxdiLm"
      }
    },
    {
      "cell_type": "code",
      "source": [
        "from empiricaldist import Pmf\n",
        "\n",
        "def bigram_pmf(cond_freq_dist, prior_word):\n",
        "  ps_l = []\n",
        "  qs_l = [w for w in cond_freq_dist[prior_word]]\n",
        "  for i in qs_l:\n",
        "    p = cond_freq_dist[prior_word].freq(i)\n",
        "    ps_l.append(p)\n",
        "  pmf = Pmf(ps_l, qs_l)\n",
        "  return pmf\n",
        "\n"
      ],
      "metadata": {
        "id": "r1eRvV_ZdhrY"
      },
      "execution_count": null,
      "outputs": []
    },
    {
      "cell_type": "markdown",
      "source": [
        "And let's generate a Pmf object, and than sort it in descending order. "
      ],
      "metadata": {
        "id": "JxyVYpxLm_lg"
      }
    },
    {
      "cell_type": "code",
      "source": [
        "reconhecimento = bigram_pmf(cfdist, 'reconhecimento')"
      ],
      "metadata": {
        "id": "TzljXyXic8q_"
      },
      "execution_count": null,
      "outputs": []
    },
    {
      "cell_type": "code",
      "source": [
        "reconhecimento.sort_values(ascending=False)[:20]"
      ],
      "metadata": {
        "colab": {
          "base_uri": "https://localhost:8080/"
        },
        "id": "KSvx2Henl9ni",
        "outputId": "9bfc3533-71c4-412c-9597-a95946e66874"
      },
      "execution_count": null,
      "outputs": [
        {
          "output_type": "execute_result",
          "data": {
            "text/plain": [
              "pessoal        0.362963\n",
              "fotográfico    0.318519\n",
              "do             0.125926\n",
              "de             0.044444\n",
              "da             0.022222\n",
              "por            0.022222\n",
              "fls            0.007407\n",
              "art            0.007407\n",
              "foi            0.007407\n",
              "e              0.007407\n",
              "ratificado     0.007407\n",
              "judicial       0.007407\n",
              "disposições    0.007407\n",
              "comprovação    0.007407\n",
              "feito          0.007407\n",
              "operado        0.007407\n",
              "não            0.007407\n",
              "já             0.007407\n",
              "deu            0.007407\n",
              "na             0.007407\n",
              "Name: , dtype: float64"
            ]
          },
          "metadata": {},
          "execution_count": 19
        }
      ]
    },
    {
      "cell_type": "markdown",
      "source": [
        "Let's plot this:"
      ],
      "metadata": {
        "id": "Y-acmb6nnIu8"
      }
    },
    {
      "cell_type": "code",
      "source": [
        "cfdist.plot(conditions=['reconhecimento'], cumulative=False)"
      ],
      "metadata": {
        "colab": {
          "base_uri": "https://localhost:8080/",
          "height": 336
        },
        "id": "w16DoXG-mIOb",
        "outputId": "699dfc87-ff59-4c76-9e7b-500dd764524f"
      },
      "execution_count": null,
      "outputs": [
        {
          "output_type": "display_data",
          "data": {
            "image/png": "[encoded data removed]",
            "text/plain": [
              "<Figure size 432x288 with 1 Axes>"
            ]
          },
          "metadata": {
            "needs_background": "light"
          }
        }
      ]
    },
    {
      "cell_type": "markdown",
      "source": [
        "Not only does it seems consistent with [Zipf's Law](https://en.wikipedia.org/wiki/Zipf%27s_law), but it also shows that \"reconhecimento\" heavily conditions \"fotográfico\" and \"pessoal\" as next words, even over formal words, such as variations of possessive determiners derived from \"de\".\n"
      ],
      "metadata": {
        "id": "dPoqgZl6nUHN"
      }
    },
    {
      "cell_type": "markdown",
      "source": [
        "A conditional probaiblity-based N-gram language model uses the adaptation of Bayes' Theorem for word counts, as follows:\n",
        "\n",
        "\\begin{equation}\n",
        "    P(word_{2}\\mid word_{1}) = \\frac{C(word_{1}, word_{2})}{C(word_{1})} \\tag{1}\n",
        "  \\end{equation}\n",
        "\n",
        "where $C$ is the count of the word or bigram. In other words, the probability of a second word is calculated by the count of the bigram, normalized by the count of the first word. "
      ],
      "metadata": {
        "id": "XhAcIUJZoZVD"
      }
    },
    {
      "cell_type": "markdown",
      "source": [
        "We can compare the bigram distribution of \"reconhecimento\" in our STJ dataset with the [most common bigrams in the \"Corpus do Português\"](https://www.ngrams.info/portuguese.asp) compiled by Mark Davies at the Brigham Young University. "
      ],
      "metadata": {
        "id": "tQh8JS7HW6I_"
      }
    },
    {
      "cell_type": "code",
      "source": [
        "with open(os.path.join(DATA_PATH, 'port_bigrams_byu.txt'), 'r', encoding='utf-8', errors='ignore') as f:\n",
        "  raw = f.readlines()"
      ],
      "metadata": {
        "id": "1HpZw1L9W52u"
      },
      "execution_count": null,
      "outputs": []
    },
    {
      "cell_type": "code",
      "source": [
        "raw[:10]"
      ],
      "metadata": {
        "colab": {
          "base_uri": "https://localhost:8080/"
        },
        "id": "IYFFL0ZfcKPG",
        "outputId": "f5bfb228-6e81-483f-af70-6bfc51c0b39b"
      },
      "execution_count": null,
      "outputs": [
        {
          "output_type": "execute_result",
          "data": {
            "text/plain": [
              "['31375\\tde\\to\\t||\\tprp\\tatd-ms\\n',\n",
              " '30304\\tque\\to\\t||\\tcj\\tatd-ms\\n',\n",
              " '28447\\tde\\ta\\t||\\tprp\\tatd-fs\\n',\n",
              " '27777\\tcom\\ta\\t||\\tprp\\tatd-fs\\n',\n",
              " '27105\\tcom\\to\\t||\\tprp\\tatd-ms\\n',\n",
              " '27000\\tde\\tum\\t||\\tprp\\tati-ms\\n',\n",
              " '26976\\te\\ta\\t||\\tcj\\tatd-fs\\n',\n",
              " '26755\\tque\\ta\\t||\\tcj\\tatd-fs\\n',\n",
              " '26315\\tpara\\ta\\t||\\tprp\\tatd-fs\\n',\n",
              " '25882\\tpara\\to\\t||\\tprp\\tatd-ms\\n']"
            ]
          },
          "metadata": {},
          "execution_count": 22
        }
      ]
    },
    {
      "cell_type": "code",
      "source": [
        "# Creating a list of tuples with the frequency, word 1 and word 2\n",
        "bigram_tup_l = []\n",
        "for line in raw:\n",
        "  broken = line.split('\\t')\n",
        "  num, w1, w2 = broken[0], broken[1], broken[2]\n",
        "  bigram_tup_l.append((num, w1, w2))\n"
      ],
      "metadata": {
        "id": "u5WCuoZQcxHQ"
      },
      "execution_count": null,
      "outputs": []
    },
    {
      "cell_type": "code",
      "source": [
        "bigram_tup_l[:10]"
      ],
      "metadata": {
        "colab": {
          "base_uri": "https://localhost:8080/"
        },
        "id": "uJJbVgGcdy3x",
        "outputId": "f537c532-18e4-4a76-8f09-77ce5225d96e"
      },
      "execution_count": null,
      "outputs": [
        {
          "output_type": "execute_result",
          "data": {
            "text/plain": [
              "[('31375', 'de', 'o'),\n",
              " ('30304', 'que', 'o'),\n",
              " ('28447', 'de', 'a'),\n",
              " ('27777', 'com', 'a'),\n",
              " ('27105', 'com', 'o'),\n",
              " ('27000', 'de', 'um'),\n",
              " ('26976', 'e', 'a'),\n",
              " ('26755', 'que', 'a'),\n",
              " ('26315', 'para', 'a'),\n",
              " ('25882', 'para', 'o')]"
            ]
          },
          "metadata": {},
          "execution_count": 24
        }
      ]
    },
    {
      "cell_type": "code",
      "source": [
        "# Creating a list only of bigrams whose first word is \"reconhecimento\"\n",
        "reconhecimento_l = [tup for tup in bigram_tup_l if tup[1] == 'reconhecimento']"
      ],
      "metadata": {
        "id": "zP3wiAe_d6T2"
      },
      "execution_count": null,
      "outputs": []
    },
    {
      "cell_type": "code",
      "source": [
        "reconhecimento_l"
      ],
      "metadata": {
        "colab": {
          "base_uri": "https://localhost:8080/"
        },
        "id": "X5PLSZYCeYCE",
        "outputId": "52fb5904-35aa-41cf-d138-2715e5bbf1f9"
      },
      "execution_count": null,
      "outputs": [
        {
          "output_type": "execute_result",
          "data": {
            "text/plain": [
              "[('169', 'reconhecimento', 'de'),\n",
              " ('120', 'reconhecimento', 'do'),\n",
              " ('99', 'reconhecimento', 'da'),\n",
              " ('38', 'reconhecimento', 'internacional'),\n",
              " ('35', 'reconhecimento', 'e'),\n",
              " ('33', 'reconhecimento', 'dos')]"
            ]
          },
          "metadata": {},
          "execution_count": 26
        }
      ]
    },
    {
      "cell_type": "code",
      "source": [
        "# Summing all occurences\n",
        "total = 0\n",
        "for tup in reconhecimento_l:\n",
        "  total += int(tup[0])\n",
        "\n",
        "total"
      ],
      "metadata": {
        "colab": {
          "base_uri": "https://localhost:8080/"
        },
        "id": "_EdmTlYHeh2d",
        "outputId": "dd8bcda9-de64-4848-b187-d3e8966b2ee9"
      },
      "execution_count": null,
      "outputs": [
        {
          "output_type": "execute_result",
          "data": {
            "text/plain": [
              "494"
            ]
          },
          "metadata": {},
          "execution_count": 27
        }
      ]
    },
    {
      "cell_type": "code",
      "source": [
        "# Creating a probability distribution\n",
        "qs =[]\n",
        "ps = []\n",
        "for tup in reconhecimento_l:\n",
        "  qs.append(tup[2])\n",
        "  p = int(tup[0]) / total\n",
        "  ps.append(p)\n",
        "\n",
        "reconhecimento_pmf = Pmf(ps, qs)"
      ],
      "metadata": {
        "id": "s7BUjFXNfD0i"
      },
      "execution_count": null,
      "outputs": []
    },
    {
      "cell_type": "code",
      "source": [
        "reconhecimento_pmf"
      ],
      "metadata": {
        "colab": {
          "base_uri": "https://localhost:8080/",
          "height": 238
        },
        "id": "Knb3PTUCfkls",
        "outputId": "d648a744-55e9-4717-8778-a838aba86c1a"
      },
      "execution_count": null,
      "outputs": [
        {
          "output_type": "execute_result",
          "data": {
            "text/html": [
              "<div>\n",
              "<style scoped>\n",
              "    .dataframe tbody tr th:only-of-type {\n",
              "        vertical-align: middle;\n",
              "    }\n",
              "\n",
              "    .dataframe tbody tr th {\n",
              "        vertical-align: top;\n",
              "    }\n",
              "\n",
              "    .dataframe thead th {\n",
              "        text-align: right;\n",
              "    }\n",
              "</style>\n",
              "<table border=\"1\" class=\"dataframe\">\n",
              "  <thead>\n",
              "    <tr style=\"text-align: right;\">\n",
              "      <th></th>\n",
              "      <th>probs</th>\n",
              "    </tr>\n",
              "  </thead>\n",
              "  <tbody>\n",
              "    <tr>\n",
              "      <th>de</th>\n",
              "      <td>0.342105</td>\n",
              "    </tr>\n",
              "    <tr>\n",
              "      <th>do</th>\n",
              "      <td>0.242915</td>\n",
              "    </tr>\n",
              "    <tr>\n",
              "      <th>da</th>\n",
              "      <td>0.200405</td>\n",
              "    </tr>\n",
              "    <tr>\n",
              "      <th>internacional</th>\n",
              "      <td>0.076923</td>\n",
              "    </tr>\n",
              "    <tr>\n",
              "      <th>e</th>\n",
              "      <td>0.070850</td>\n",
              "    </tr>\n",
              "    <tr>\n",
              "      <th>dos</th>\n",
              "      <td>0.066802</td>\n",
              "    </tr>\n",
              "  </tbody>\n",
              "</table>\n",
              "</div>"
            ],
            "text/plain": [
              "de               0.342105\n",
              "do               0.242915\n",
              "da               0.200405\n",
              "internacional    0.076923\n",
              "e                0.070850\n",
              "dos              0.066802\n",
              "Name: , dtype: float64"
            ]
          },
          "metadata": {},
          "execution_count": 29
        }
      ]
    },
    {
      "cell_type": "code",
      "source": [
        "# Ploting\n",
        "\n",
        "from utils import decorate\n",
        "\n",
        "reconhecimento_pmf.bar()\n",
        "\n",
        "decorate(title='Bigram probability distribution for \"reconhecimento\"',\n",
        "         xlabel='Word 2',\n",
        "         ylabel='Probability')"
      ],
      "metadata": {
        "colab": {
          "base_uri": "https://localhost:8080/",
          "height": 352
        },
        "id": "h5JPcJFgfoUk",
        "outputId": "8d4d74fa-7696-4c9e-b471-0390fbcecad3"
      },
      "execution_count": null,
      "outputs": [
        {
          "output_type": "stream",
          "name": "stderr",
          "text": [
            "/usr/local/lib/python3.7/dist-packages/statsmodels/tools/_testing.py:19: FutureWarning: pandas.util.testing is deprecated. Use the functions in the public API at pandas.testing instead.\n",
            "  import pandas.util.testing as tm\n"
          ]
        },
        {
          "output_type": "display_data",
          "data": {
            "image/png": "[encoded data removed]",
            "text/plain": [
              "<Figure size 432x288 with 1 Axes>"
            ]
          },
          "metadata": {
            "needs_background": "light"
          }
        }
      ]
    },
    {
      "cell_type": "markdown",
      "source": [
        "As we can see, in bigrams sampled out of a reference corpus, the most probable second words are functional words, i.e., prepositions. \"Internacional\" is the only notional word included in the list. Although this is to be expected somewhat, since this sample is from news sources, not legal sources. However, the predominance of prepositions seem relevant in comparison with our corpus. "
      ],
      "metadata": {
        "id": "dreBKSNThUCB"
      }
    },
    {
      "cell_type": "markdown",
      "source": [
        "Now, let's construct some a probability distribution of lexical items--i.e., of unigrams, that will help us determine some phenomena later. "
      ],
      "metadata": {
        "id": "F0Tam0rOn-O3"
      }
    },
    {
      "cell_type": "code",
      "source": [
        "def unigram_pmf(freq_dist):\n",
        "  qs_l = [w for w in freq_dist]\n",
        "  ps_l = [freq_dist.freq(w) for w in freq_dist]\n",
        "  pmf = Pmf(ps_l, qs_l)\n",
        "  return pmf"
      ],
      "metadata": {
        "id": "4kmZurYgn8qH"
      },
      "execution_count": null,
      "outputs": []
    },
    {
      "cell_type": "code",
      "source": [
        "unigram_dist = unigram_pmf(fdist)"
      ],
      "metadata": {
        "id": "kU1gMIfOnRGw"
      },
      "execution_count": null,
      "outputs": []
    },
    {
      "cell_type": "code",
      "source": [
        "unigram_dist.sort_values(ascending=False)[:20]"
      ],
      "metadata": {
        "id": "Gn8XBEerUl0w",
        "colab": {
          "base_uri": "https://localhost:8080/"
        },
        "outputId": "f89aff18-d757-43fc-e8e0-49b61eecb32b"
      },
      "execution_count": null,
      "outputs": [
        {
          "output_type": "execute_result",
          "data": {
            "text/plain": [
              "de                0.048324\n",
              "numero            0.044062\n",
              "do                0.033033\n",
              "a                 0.031861\n",
              "o                 0.022377\n",
              "da                0.019820\n",
              "em                0.019394\n",
              "não               0.018861\n",
              "que               0.016730\n",
              "no                0.015984\n",
              "e                 0.013426\n",
              "se                0.009377\n",
              "penal             0.008738\n",
              "data              0.007779\n",
              "para              0.007726\n",
              "na                0.007246\n",
              "reconhecimento    0.007193\n",
              "agravo            0.006820\n",
              "art               0.006180\n",
              "recurso           0.005541\n",
              "Name: , dtype: float64"
            ]
          },
          "metadata": {},
          "execution_count": 33
        }
      ]
    },
    {
      "cell_type": "markdown",
      "source": [
        "And let's check the count and probability of some key lexical items, that account for the common types of crimes in the Brazilian Criminal Justice System.\n"
      ],
      "metadata": {
        "id": "29fPvVQAVqCN"
      }
    },
    {
      "cell_type": "code",
      "source": [
        "lexical_l = ['roubo', 'homicídio', 'tráfico', 'estupro', 'corrupção', 'sonegação']\n",
        "lexical_d = {}\n",
        "\n",
        "for i in lexical_l:\n",
        "  lexical_d[i] = (fdist[i], fdist.freq(i))\n"
      ],
      "metadata": {
        "id": "uHZOOhKpUwxn"
      },
      "execution_count": null,
      "outputs": []
    },
    {
      "cell_type": "code",
      "source": [
        "df_lexical_items = pd.DataFrame(lexical_d, index=['Count', 'Probability'])\n",
        "df_lexical_items.transpose()"
      ],
      "metadata": {
        "id": "jS4SwCgvU59q",
        "colab": {
          "base_uri": "https://localhost:8080/",
          "height": 236
        },
        "outputId": "1a1e353d-e65b-44ce-ca62-b81e931b2812"
      },
      "execution_count": null,
      "outputs": [
        {
          "output_type": "execute_result",
          "data": {
            "text/html": [
              "\n",
              "  <div id=\"df-2d579598-1038-4f15-8c56-1c82a5bfd620\">\n",
              "    <div class=\"colab-df-container\">\n",
              "      <div>\n",
              "<style scoped>\n",
              "    .dataframe tbody tr th:only-of-type {\n",
              "        vertical-align: middle;\n",
              "    }\n",
              "\n",
              "    .dataframe tbody tr th {\n",
              "        vertical-align: top;\n",
              "    }\n",
              "\n",
              "    .dataframe thead th {\n",
              "        text-align: right;\n",
              "    }\n",
              "</style>\n",
              "<table border=\"1\" class=\"dataframe\">\n",
              "  <thead>\n",
              "    <tr style=\"text-align: right;\">\n",
              "      <th></th>\n",
              "      <th>Count</th>\n",
              "      <th>Probability</th>\n",
              "    </tr>\n",
              "  </thead>\n",
              "  <tbody>\n",
              "    <tr>\n",
              "      <th>roubo</th>\n",
              "      <td>46.0</td>\n",
              "      <td>0.002451</td>\n",
              "    </tr>\n",
              "    <tr>\n",
              "      <th>homicídio</th>\n",
              "      <td>6.0</td>\n",
              "      <td>0.000320</td>\n",
              "    </tr>\n",
              "    <tr>\n",
              "      <th>tráfico</th>\n",
              "      <td>5.0</td>\n",
              "      <td>0.000266</td>\n",
              "    </tr>\n",
              "    <tr>\n",
              "      <th>estupro</th>\n",
              "      <td>4.0</td>\n",
              "      <td>0.000213</td>\n",
              "    </tr>\n",
              "    <tr>\n",
              "      <th>corrupção</th>\n",
              "      <td>3.0</td>\n",
              "      <td>0.000160</td>\n",
              "    </tr>\n",
              "    <tr>\n",
              "      <th>sonegação</th>\n",
              "      <td>0.0</td>\n",
              "      <td>0.000000</td>\n",
              "    </tr>\n",
              "  </tbody>\n",
              "</table>\n",
              "</div>\n",
              "      <button class=\"colab-df-convert\" onclick=\"convertToInteractive('df-2d579598-1038-4f15-8c56-1c82a5bfd620')\"\n",
              "              title=\"Convert this dataframe to an interactive table.\"\n",
              "              style=\"display:none;\">\n",
              "        \n",
              "  <svg xmlns=\"http://www.w3.org/2000/svg\" height=\"24px\"viewBox=\"0 0 24 24\"\n",
              "       width=\"24px\">\n",
              "    <path d=\"M0 0h24v24H0V0z\" fill=\"none\"/>\n",
              "    <path d=\"M18.56 5.44l.94 2.06.94-2.06 2.06-.94-2.06-.94-.94-2.06-.94 2.06-2.06.94zm-11 1L8.5 8.5l.94-2.06 2.06-.94-2.06-.94L8.5 2.5l-.94 2.06-2.06.94zm10 10l.94 2.06.94-2.06 2.06-.94-2.06-.94-.94-2.06-.94 2.06-2.06.94z\"/><path d=\"M17.41 7.96l-1.37-1.37c-.4-.4-.92-.59-1.43-.59-.52 0-1.04.2-1.43.59L10.3 9.45l-7.72 7.72c-.78.78-.78 2.05 0 2.83L4 21.41c.39.39.9.59 1.41.59.51 0 1.02-.2 1.41-.59l7.78-7.78 2.81-2.81c.8-.78.8-2.07 0-2.86zM5.41 20L4 18.59l7.72-7.72 1.47 1.35L5.41 20z\"/>\n",
              "  </svg>\n",
              "      </button>\n",
              "      \n",
              "  <style>\n",
              "    .colab-df-container {\n",
              "      display:flex;\n",
              "      flex-wrap:wrap;\n",
              "      gap: 12px;\n",
              "    }\n",
              "\n",
              "    .colab-df-convert {\n",
              "      background-color: #E8F0FE;\n",
              "      border: none;\n",
              "      border-radius: 50%;\n",
              "      cursor: pointer;\n",
              "      display: none;\n",
              "      fill: #1967D2;\n",
              "      height: 32px;\n",
              "      padding: 0 0 0 0;\n",
              "      width: 32px;\n",
              "    }\n",
              "\n",
              "    .colab-df-convert:hover {\n",
              "      background-color: #E2EBFA;\n",
              "      box-shadow: 0px 1px 2px rgba(60, 64, 67, 0.3), 0px 1px 3px 1px rgba(60, 64, 67, 0.15);\n",
              "      fill: #174EA6;\n",
              "    }\n",
              "\n",
              "    [theme=dark] .colab-df-convert {\n",
              "      background-color: #3B4455;\n",
              "      fill: #D2E3FC;\n",
              "    }\n",
              "\n",
              "    [theme=dark] .colab-df-convert:hover {\n",
              "      background-color: #434B5C;\n",
              "      box-shadow: 0px 1px 3px 1px rgba(0, 0, 0, 0.15);\n",
              "      filter: drop-shadow(0px 1px 2px rgba(0, 0, 0, 0.3));\n",
              "      fill: #FFFFFF;\n",
              "    }\n",
              "  </style>\n",
              "\n",
              "      <script>\n",
              "        const buttonEl =\n",
              "          document.querySelector('#df-2d579598-1038-4f15-8c56-1c82a5bfd620 button.colab-df-convert');\n",
              "        buttonEl.style.display =\n",
              "          google.colab.kernel.accessAllowed ? 'block' : 'none';\n",
              "\n",
              "        async function convertToInteractive(key) {\n",
              "          const element = document.querySelector('#df-2d579598-1038-4f15-8c56-1c82a5bfd620');\n",
              "          const dataTable =\n",
              "            await google.colab.kernel.invokeFunction('convertToInteractive',\n",
              "                                                     [key], {});\n",
              "          if (!dataTable) return;\n",
              "\n",
              "          const docLinkHtml = 'Like what you see? Visit the ' +\n",
              "            '<a target=\"_blank\" href=https://colab.research.google.com/notebooks/data_table.ipynb>data table notebook</a>'\n",
              "            + ' to learn more about interactive tables.';\n",
              "          element.innerHTML = '';\n",
              "          dataTable['output_type'] = 'display_data';\n",
              "          await google.colab.output.renderOutput(dataTable, element);\n",
              "          const docLink = document.createElement('div');\n",
              "          docLink.innerHTML = docLinkHtml;\n",
              "          element.appendChild(docLink);\n",
              "        }\n",
              "      </script>\n",
              "    </div>\n",
              "  </div>\n",
              "  "
            ],
            "text/plain": [
              "           Count  Probability\n",
              "roubo       46.0     0.002451\n",
              "homicídio    6.0     0.000320\n",
              "tráfico      5.0     0.000266\n",
              "estupro      4.0     0.000213\n",
              "corrupção    3.0     0.000160\n",
              "sonegação    0.0     0.000000"
            ]
          },
          "metadata": {},
          "execution_count": 42
        }
      ]
    },
    {
      "cell_type": "markdown",
      "source": [
        "As we can see, \"roubo\" is the indisputable king of references in the corpus, in what regards names of crimes. \"Corrupção\", a white collar crime, is about 15 times less frequent in the data. And a prototypical financial crime--tax evasion--doesn't occur at all. "
      ],
      "metadata": {
        "id": "wS6enOdjXHJE"
      }
    },
    {
      "cell_type": "markdown",
      "source": [
        "Now, lets plot this:"
      ],
      "metadata": {
        "id": "FKidZplkMvGs"
      }
    },
    {
      "cell_type": "code",
      "source": [
        "uni_ps = df_lexical_items.loc['Probability']\n",
        "uni_qs = df_lexical_items.columns\n",
        "unigram_pmf = Pmf(uni_ps, uni_qs)"
      ],
      "metadata": {
        "id": "5dmKgzU0Wn5B"
      },
      "execution_count": null,
      "outputs": []
    },
    {
      "cell_type": "code",
      "source": [
        "unigram_pmf.bar()\n",
        "\n",
        "decorate(title='Unigram Probability Distribution',\n",
        "         xlabel='Unigrams',\n",
        "         ylabel='PMF')"
      ],
      "metadata": {
        "colab": {
          "base_uri": "https://localhost:8080/",
          "height": 297
        },
        "id": "p2FZBV2MM4Sf",
        "outputId": "1d1dba4f-1737-4c54-96aa-2acaeb9fd1a2"
      },
      "execution_count": null,
      "outputs": [
        {
          "output_type": "display_data",
          "data": {
            "image/png": "[encoded data removed]",
            "text/plain": [
              "<Figure size 432x288 with 1 Axes>"
            ]
          },
          "metadata": {
            "needs_background": "light"
          }
        }
      ]
    },
    {
      "cell_type": "markdown",
      "source": [
        "And let's do some comparisons. "
      ],
      "metadata": {
        "id": "6BuNol99P1wV"
      }
    },
    {
      "cell_type": "code",
      "source": [
        "prob_roubo = df_lexical_items.loc['Probability']['roubo']\n",
        "prob_corrupcao = df_lexical_items.loc['Probability']['corrupção']\n",
        "prob_homicidio = df_lexical_items.loc['Probability']['homicídio']"
      ],
      "metadata": {
        "id": "S3eaYPpHNeis"
      },
      "execution_count": null,
      "outputs": []
    },
    {
      "cell_type": "code",
      "source": [
        "roubo_corrupcao = prob_roubo / prob_corrupcao\n",
        "roubo_homicido = prob_roubo / prob_homicidio\n",
        "\n",
        "roubo_corrupcao, roubo_homicido"
      ],
      "metadata": {
        "colab": {
          "base_uri": "https://localhost:8080/"
        },
        "id": "rrraJrmXQKml",
        "outputId": "2f872db6-05b1-42d7-a390-2587ef8c20bc"
      },
      "execution_count": null,
      "outputs": [
        {
          "output_type": "execute_result",
          "data": {
            "text/plain": [
              "(15.333333333333336, 7.666666666666668)"
            ]
          },
          "metadata": {},
          "execution_count": 49
        }
      ]
    },
    {
      "cell_type": "code",
      "source": [
        ""
      ],
      "metadata": {
        "id": "m-1j5f5HQsji"
      },
      "execution_count": null,
      "outputs": []
    }
  ]
}